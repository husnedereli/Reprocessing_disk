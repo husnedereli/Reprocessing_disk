{
 "cells": [
  {
   "cell_type": "code",
   "execution_count": 1,
   "metadata": {},
   "outputs": [],
   "source": [
    "import AD_module as ad\n",
    "import numpy as np\n",
    "import ctypes"
   ]
  },
  {
   "cell_type": "code",
   "execution_count": 2,
   "metadata": {},
   "outputs": [],
   "source": [
    "## Before running\n",
    "## Compile the code with :\n",
    "# python Python_setup.py build_ext -i -lcfitsio --inplace"
   ]
  },
  {
   "cell_type": "code",
   "execution_count": 3,
   "metadata": {},
   "outputs": [
    {
     "name": "stdout",
     "output_type": "stream",
     "text": [
      "[5914.7813 5914.9485 5915.1157 ... 6962.6193 6962.7865 6962.9537]\n",
      "6270\n"
     ]
    }
   ],
   "source": [
    "time= []\n",
    "flux= []\n",
    "fluxerr=[]\n",
    "with open('Output_Lstar.txt') as f:\n",
    "    for line in f:\n",
    "        data = line.split()\n",
    "        time.append(float(data[0]))\n",
    "        flux.append(float(data[1]))\n",
    "        fluxerr.append(float(data[1]))\n",
    "        \n",
    "print np.array(time)\n",
    "print len(time)\n",
    "Ntime = len(time)"
   ]
  },
  {
   "cell_type": "code",
   "execution_count": 4,
   "metadata": {},
   "outputs": [],
   "source": [
    "Filter=np.array([1,1,1,0,0,1])"
   ]
  },
  {
   "cell_type": "code",
   "execution_count": 5,
   "metadata": {},
   "outputs": [],
   "source": [
    "for i in range(Ntime):\n",
    "    ad.AD_py(6,Filter,np.array([time[i]]), np.array([flux[i]]))"
   ]
  },
  {
   "cell_type": "code",
   "execution_count": null,
   "metadata": {},
   "outputs": [],
   "source": []
  },
  {
   "cell_type": "code",
   "execution_count": null,
   "metadata": {},
   "outputs": [],
   "source": []
  }
 ],
 "metadata": {
  "kernelspec": {
   "display_name": "Python 2",
   "language": "python",
   "name": "python2"
  },
  "language_info": {
   "codemirror_mode": {
    "name": "ipython",
    "version": 2
   },
   "file_extension": ".py",
   "mimetype": "text/x-python",
   "name": "python",
   "nbconvert_exporter": "python",
   "pygments_lexer": "ipython2",
   "version": "2.7.14"
  }
 },
 "nbformat": 4,
 "nbformat_minor": 1
}
