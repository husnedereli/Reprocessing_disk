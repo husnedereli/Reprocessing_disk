{
 "cells": [
  {
   "cell_type": "code",
   "execution_count": 1,
   "metadata": {},
   "outputs": [],
   "source": [
    "#2.11.2018\n",
    "#from numpy import *\n",
    "#%pylab inline\n",
    "from pylab import *\n",
    "#for ploting \n",
    "import matplotlib.pyplot as plt\n",
    "%matplotlib inline "
   ]
  },
  {
   "cell_type": "code",
   "execution_count": 2,
   "metadata": {},
   "outputs": [],
   "source": [
    "import AD_module as ad\n",
    "import numpy as np\n",
    "import ctypes"
   ]
  },
  {
   "cell_type": "code",
   "execution_count": 3,
   "metadata": {},
   "outputs": [],
   "source": [
    "## Before running\n",
    "## Compile the code with :\n",
    "# python Python_setup.py build_ext -i -lcfitsio --inplace"
   ]
  },
  {
   "cell_type": "code",
   "execution_count": 4,
   "metadata": {},
   "outputs": [],
   "source": [
    "#Initialization\n",
    "Ntau = 7\n",
    "tau_time = [3.0, 6.0, 10.0, 20.0, 40.0, 100.0, 200.0]\n",
    "tau_time = np.asarray(tau_time)\n",
    "ratio = [-1.0,-1.0,-1.0,-1.0,-1.0,-1.0,-1.0]\n",
    "ratio = np.asarray(ratio)\n"
   ]
  },
  {
   "cell_type": "code",
   "execution_count": 5,
   "metadata": {},
   "outputs": [
    {
     "name": "stdout",
     "output_type": "stream",
     "text": [
      "[5914.7813 5914.9485 5915.1157 ... 6962.6193 6962.7865 6962.9537]\n",
      "6270\n",
      "5914.7813\n",
      "[0.0000000e+00 1.6720000e-01 3.3440000e-01 ... 1.0478380e+03 1.0480052e+03\n",
      " 1.0481724e+03]\n",
      "[  -8.       -7.8328   -7.6656 ... 1039.838  1040.0052 1040.1724]\n",
      "1048.1724000000004\n",
      "2.538529051036683\n"
     ]
    }
   ],
   "source": [
    "time = []\n",
    "flux = []\n",
    "fluxerr = []\n",
    "with open('Output_Lstar.txt') as f:\n",
    "    for line in f:\n",
    "        data = line.split()\n",
    "        #print float(data[0])\n",
    "        time.append(float(data[0]))\n",
    "        flux.append(float(data[1]))\n",
    "        fluxerr.append(float(data[2]))\n",
    "time = np.asarray(time)\n",
    "flux = np.asarray(flux)\n",
    "fluxerr = np.asarray(fluxerr)\n",
    "print time       \n",
    "print len(time)\n",
    "Ntime = len(time)\n",
    "print time[0]\n",
    "time = time-time[0]\n",
    "print time\n",
    "time = time-8 #days \n",
    "print time\n",
    "#print time[Ntime-1]\n",
    "print (time[Ntime-1]-time[0])\n",
    "#time = time+(time[Ntime-1]-time[0])\n",
    "#print time\n",
    "mean_F = mean(flux)\n",
    "print mean_F\n",
    "flux = flux / mean_F"
   ]
  },
  {
   "cell_type": "code",
   "execution_count": 6,
   "metadata": {},
   "outputs": [
    {
     "name": "stderr",
     "output_type": "stream",
     "text": [
      "/usr/local/lib/python2.7/site-packages/matplotlib/font_manager.py:1297: UserWarning: findfont: Font family [u'normal'] not found. Falling back to DejaVu Sans\n",
      "  (prop.get_family(), self.defaultFamily[fontext]))\n"
     ]
    },
    {
     "data": {
      "image/png": "[encoded data removed]",
      "text/plain": [
       "<matplotlib.figure.Figure at 0x10bcd3290>"
      ]
     },
     "metadata": {},
     "output_type": "display_data"
    }
   ],
   "source": [
    "#if I want to save it in pdf\n",
    "import datetime\n",
    "import numpy as np\n",
    "from matplotlib.backends.backend_pdf import PdfPages\n",
    "import matplotlib.pyplot as plt\n",
    "import matplotlib.lines as lns\n",
    "from numpy.random import normal\n",
    "#import matplotlib as mpl\n",
    "#mpl.rcParams['axes.linewidth'] = 2 #set the value globally\n",
    "\n",
    "font = {'family' : 'normal',\n",
    "        'weight' : 'normal', #bold',\n",
    "        'size'   : 13}\n",
    "matplotlib.rc('font', **font) # it is for the tickness of axis and label\n",
    "#You can find a full list of available properties on the Customizing matplotlib page.\n",
    "\n",
    "# Create the PdfPages object to which we will save the pages:\n",
    "# The with statement makes sure that the PdfPages object is closed properly at\n",
    "# the end of the block, even if an Exception occurs.\n",
    "with PdfPages('LC_Output_Lstar.pdf') as pdf:\n",
    "    #plt.rc('text', usetex=True)\n",
    "    plt.figure(figsize=(8, 6))\n",
    "    plt.plot(time,flux, 'k.', linewidth=2.5)#, label='UVW2 Swift band passes')\n",
    "    #plt.legend(('UVW2 Swift band passes','rescaled'), loc = 0)\n",
    "    #plt.hist(alpha_obs1, bins=20, histtype='step', color='k')\n",
    "    #plt.legend(('all data'), loc = 0)\n",
    "    #plt.vlines(x=-1.5, ymin=0, ymax=80, color=\"black\", linewidth=1, linestyle=\"--\", zorder=-1)\n",
    "    #plt.text(-1.5, 100, 'IPD', fontsize=20)\n",
    "    #plt.text(-1.5, 100, 'all data', fontsize=20)\n",
    "    plt.ylabel('Flux', size =16)\n",
    "    plt.xlabel('Time', size =16)\n",
    "    ## set axis limits\n",
    "    #plt.ylim(0, 1)\n",
    "    #plt.xlim(1500, 3500)\n",
    "    #pdf.savefig()\n",
    "    #plt.close() #If I don't want to see plot in the screen like below I can open this one"
   ]
  },
  {
   "cell_type": "code",
   "execution_count": 7,
   "metadata": {},
   "outputs": [],
   "source": [
    "Filter=np.array([0,1,1,0,1,1])"
   ]
  },
  {
   "cell_type": "code",
   "execution_count": 8,
   "metadata": {},
   "outputs": [
    {
     "data": {
      "text/plain": [
       "0"
      ]
     },
     "execution_count": 8,
     "metadata": {},
     "output_type": "execute_result"
    }
   ],
   "source": [
    "ad.AD_py(6,Filter, time, flux, ratio, tau_time, Ntime, Ntau)"
   ]
  },
  {
   "cell_type": "code",
   "execution_count": null,
   "metadata": {},
   "outputs": [],
   "source": []
  },
  {
   "cell_type": "code",
   "execution_count": 9,
   "metadata": {},
   "outputs": [
    {
     "data": {
      "text/plain": [
       "[<matplotlib.lines.Line2D at 0x10ba427d0>]"
      ]
     },
     "execution_count": 9,
     "metadata": {},
     "output_type": "execute_result"
    },
    {
     "data": {
      "image/png": "[encoded data removed]",
      "text/plain": [
       "<matplotlib.figure.Figure at 0x10ba42c50>"
      ]
     },
     "metadata": {},
     "output_type": "display_data"
    }
   ],
   "source": [
    "plt.plot(log(tau_time)/log(10.0),ratio, 'k.', linewidth=2.5)"
   ]
  },
  {
   "cell_type": "code",
   "execution_count": null,
   "metadata": {},
   "outputs": [],
   "source": []
  },
  {
   "cell_type": "code",
   "execution_count": null,
   "metadata": {},
   "outputs": [],
   "source": []
  }
 ],
 "metadata": {
  "kernelspec": {
   "display_name": "Python 2",
   "language": "python",
   "name": "python2"
  },
  "language_info": {
   "codemirror_mode": {
    "name": "ipython",
    "version": 2
   },
   "file_extension": ".py",
   "mimetype": "text/x-python",
   "name": "python",
   "nbconvert_exporter": "python",
   "pygments_lexer": "ipython2",
   "version": "2.7.14"
  }
 },
 "nbformat": 4,
 "nbformat_minor": 1
}
