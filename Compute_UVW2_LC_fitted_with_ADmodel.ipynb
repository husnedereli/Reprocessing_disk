{
 "cells": [
  {
   "cell_type": "code",
   "execution_count": 2,
   "metadata": {
    "collapsed": true
   },
   "outputs": [],
   "source": [
    "#27.11.2018\n",
    "from numpy import *\n",
    "#%pylab inline\n",
    "from pylab import *\n",
    "#for ploting \n",
    "import matplotlib.pyplot as plt\n",
    "%matplotlib inline "
   ]
  },
  {
   "cell_type": "code",
   "execution_count": 3,
   "metadata": {
    "collapsed": true
   },
   "outputs": [],
   "source": [
    "import AD_module as ad\n",
    "import numpy as np\n",
    "import ctypes"
   ]
  },
  {
   "cell_type": "code",
   "execution_count": 4,
   "metadata": {
    "collapsed": true
   },
   "outputs": [],
   "source": [
    "clight = 3*1e10"
   ]
  },
  {
   "cell_type": "code",
   "execution_count": 5,
   "metadata": {
    "collapsed": true
   },
   "outputs": [],
   "source": [
    "## Before running\n",
    "## Compile the code with :\n",
    "# python Python_setup_ILC.py build_ext -i -lcfitsio --inplace"
   ]
  },
  {
   "cell_type": "markdown",
   "metadata": {},
   "source": [
    "# Compute the spectrum of the steady disk and then its total luminosity"
   ]
  },
  {
   "cell_type": "code",
   "execution_count": 9,
   "metadata": {
    "collapsed": false
   },
   "outputs": [],
   "source": [
    "Nint = 1500\n",
    "spec = []\n",
    "wavelength = []\n",
    "step_wv = exp(log(1e0/1e-12)/Nint)\n",
    "for i in range(Nint):\n",
    "    spec.append(0.0)\n",
    "    wavelength.append(1e-12*pow(step_wv,i))\n",
    "    \n",
    "spec = np.asarray(spec)\n",
    "wavelength = np.asarray(wavelength)"
   ]
  },
  {
   "cell_type": "code",
   "execution_count": 10,
   "metadata": {
    "collapsed": false
   },
   "outputs": [
    {
     "data": {
      "text/plain": [
       "0"
      ]
     },
     "execution_count": 10,
     "metadata": {},
     "output_type": "execute_result"
    }
   ],
   "source": [
    "ad.Spectrum(1.0, wavelength, spec, Nint)"
   ]
  },
  {
   "cell_type": "code",
   "execution_count": null,
   "metadata": {
    "collapsed": false
   },
   "outputs": [],
   "source": []
  },
  {
   "cell_type": "code",
   "execution_count": 11,
   "metadata": {
    "collapsed": false
   },
   "outputs": [
    {
     "name": "stderr",
     "output_type": "stream",
     "text": [
      "/usr/local/lib/python2.7/dist-packages/IPython/kernel/__main__.py:2: RuntimeWarning: divide by zero encountered in log\n",
      "  from IPython.kernel.zmq import kernelapp as app\n"
     ]
    },
    {
     "data": {
      "text/plain": [
       "[<matplotlib.lines.Line2D at 0x7f3b2cf13dd0>]"
      ]
     },
     "execution_count": 11,
     "metadata": {},
     "output_type": "execute_result"
    },
    {
     "data": {
      "image/png": "[encoded data removed]",
      "text/plain": [
       "<matplotlib.figure.Figure at 0x7f3b2cf139d0>"
      ]
     },
     "metadata": {},
     "output_type": "display_data"
    }
   ],
   "source": [
    "plt.ylim(-35,-20)\n",
    "plt.plot(log(wavelength)/log(10.0), log(spec)/log(10.0))"
   ]
  },
  {
   "cell_type": "code",
   "execution_count": 12,
   "metadata": {
    "collapsed": false
   },
   "outputs": [
    {
     "name": "stdout",
     "output_type": "stream",
     "text": [
      "2.32401008915e-28\n"
     ]
    }
   ],
   "source": [
    "summ = 0.0\n",
    "for i in range(Nint-1):\n",
    "    summ += 0.5*(spec[i+1]+ spec[i])*(wavelength[i+1]-wavelength[i])\n",
    "print summ"
   ]
  },
  {
   "cell_type": "code",
   "execution_count": null,
   "metadata": {
    "collapsed": true
   },
   "outputs": [],
   "source": []
  },
  {
   "cell_type": "code",
   "execution_count": null,
   "metadata": {
    "collapsed": true
   },
   "outputs": [],
   "source": []
  },
  {
   "cell_type": "code",
   "execution_count": 5,
   "metadata": {
    "collapsed": true
   },
   "outputs": [],
   "source": [
    "#Initialization\n",
    "Ntau = 7\n",
    "tau_time = [3.0, 6.0, 10.0, 20.0, 40.0, 100.0, 200.0]\n",
    "tau_time = np.asarray(tau_time)\n",
    "ratio = [-1.0,-1.0,-1.0,-1.0,-1.0,-1.0,-1.0]\n",
    "ratio = np.asarray(ratio)"
   ]
  },
  {
   "cell_type": "code",
   "execution_count": 6,
   "metadata": {
    "collapsed": false
   },
   "outputs": [
    {
     "name": "stdout",
     "output_type": "stream",
     "text": [
      "2.53852905104\n"
     ]
    }
   ],
   "source": [
    "time_ILC = []\n",
    "flux_ILC = []\n",
    "fluxerr_ILC = []\n",
    "with open('Output_Lstar.txt') as f:\n",
    "    for line in f:\n",
    "        data = line.split()\n",
    "        #print float(data[0])\n",
    "        time_ILC.append(float(data[0]))\n",
    "        flux_ILC.append(float(data[1]))\n",
    "        fluxerr_ILC.append(float(data[2]))\n",
    "time_ILC = np.asarray(time_ILC)\n",
    "flux_ILC = np.asarray(flux_ILC)\n",
    "fluxerr_ILC = np.asarray(fluxerr_ILC)\n",
    "\n",
    "mean_F = mean(flux_ILC)\n",
    "print mean_F\n",
    "flux_ILC = flux_ILC / mean_F\n",
    "time_ILC = time_ILC-time_ILC[0]"
   ]
  },
  {
   "cell_type": "code",
   "execution_count": 7,
   "metadata": {
    "collapsed": false
   },
   "outputs": [
    {
     "name": "stderr",
     "output_type": "stream",
     "text": [
      "/usr/lib/pymodules/python2.7/matplotlib/font_manager.py:1236: UserWarning: findfont: Font family ['normal'] not found. Falling back to Bitstream Vera Sans\n",
      "  (prop.get_family(), self.defaultFamily[fontext]))\n",
      "/usr/lib/pymodules/python2.7/matplotlib/font_manager.py:1246: UserWarning: findfont: Could not match :family=Bitstream Vera Sans:style=normal:variant=normal:weight=normal:stretch=normal:size=medium. Returning /usr/share/matplotlib/mpl-data/fonts/ttf/cmb10.ttf\n",
      "  UserWarning)\n",
      "/usr/lib/pymodules/python2.7/matplotlib/font_manager.py:1246: UserWarning: findfont: Could not match :family=Bitstream Vera Sans:style=normal:variant=normal:weight=normal:stretch=normal:size=16.0. Returning /usr/share/matplotlib/mpl-data/fonts/ttf/cmb10.ttf\n",
      "  UserWarning)\n"
     ]
    },
    {
     "data": {
      "image/png": "[encoded data removed]",
      "text/plain": [
       "<matplotlib.figure.Figure at 0x7f8e39972250>"
      ]
     },
     "metadata": {},
     "output_type": "display_data"
    }
   ],
   "source": [
    "#if I want to save it in pdf\n",
    "import datetime\n",
    "import numpy as np\n",
    "from matplotlib.backends.backend_pdf import PdfPages\n",
    "import matplotlib.pyplot as plt\n",
    "import matplotlib.lines as lns\n",
    "from numpy.random import normal\n",
    "#import matplotlib as mpl\n",
    "#mpl.rcParams['axes.linewidth'] = 2 #set the value globally\n",
    "\n",
    "font = {'family' : 'normal',\n",
    "        'weight' : 'normal', #bold',\n",
    "        'size'   : 13}\n",
    "matplotlib.rc('font', **font) # it is for the tickness of axis and label\n",
    "#You can find a full list of available properties on the Customizing matplotlib page.\n",
    "\n",
    "# Create the PdfPages object to which we will save the pages:\n",
    "# The with statement makes sure that the PdfPages object is closed properly at\n",
    "# the end of the block, even if an Exception occurs.\n",
    "with PdfPages('LC_Output_Lstar.pdf') as pdf:\n",
    "    #plt.rc('text', usetex=True)\n",
    "    plt.figure(figsize=(8, 6))\n",
    "    plt.plot(time_ILC, flux_ILC, 'k', linewidth=2.5)#, label='UVW2 Swift band passes')\n",
    "    #plt.legend(('UVW2 Swift band passes','rescaled'), loc = 0)\n",
    "    #plt.hist(alpha_obs1, bins=20, histtype='step', color='k')\n",
    "    #plt.legend(('all data'), loc = 0)\n",
    "    #plt.vlines(x=-1.5, ymin=0, ymax=80, color=\"black\", linewidth=1, linestyle=\"--\", zorder=-1)\n",
    "    #plt.text(-1.5, 100, 'IPD', fontsize=20)\n",
    "    #plt.text(-1.5, 100, 'all data', fontsize=20)\n",
    "    plt.ylabel('Flux', size =16)\n",
    "    plt.xlabel('Time', size =16)\n",
    "    ## set axis limits\n",
    "    #plt.ylim(0, 1)\n",
    "    #plt.xlim(1500, 3500)\n",
    "    #pdf.savefig()\n",
    "    #plt.close() #If I don't want to see plot in the screen like below I can open this one"
   ]
  },
  {
   "cell_type": "code",
   "execution_count": 8,
   "metadata": {
    "collapsed": true
   },
   "outputs": [],
   "source": [
    "#2) Compute UVW2 LC assuming illuminating source (Flux)\n",
    "#follow the UVW2 fitted with the acretion disk model\n",
    "Filter=np.array([1,1,1,0,1,1])"
   ]
  },
  {
   "cell_type": "code",
   "execution_count": 9,
   "metadata": {
    "collapsed": false
   },
   "outputs": [],
   "source": [
    "#ad.AD_py(6,Filter, time, flux, ratio, tau_time, Ntime, Ntau)"
   ]
  },
  {
   "cell_type": "code",
   "execution_count": 10,
   "metadata": {
    "collapsed": false
   },
   "outputs": [
    {
     "data": {
      "text/plain": [
       "0"
      ]
     },
     "execution_count": 10,
     "metadata": {},
     "output_type": "execute_result"
    }
   ],
   "source": [
    "t = []\n",
    "flux0 = []\n",
    "flux1 = []\n",
    "flux2 = []\n",
    "flux3 = []\n",
    "flux4 = []\n",
    "flux5 = []\n",
    "for i in range(0,2000):\n",
    "    t.append(float(0.5*float(i) + 0.0))\n",
    "    flux0.append(float(0))\n",
    "    flux1.append(float(0))\n",
    "    flux2.append(float(0))\n",
    "    flux3.append(float(0))\n",
    "    flux4.append(float(0))\n",
    "    flux5.append(float(0))\n",
    "t = np.asarray(t)\n",
    "flux0 = np.asarray(flux0)\n",
    "flux1 = np.asarray(flux1)\n",
    "flux2 = np.asarray(flux2)\n",
    "flux3 = np.asarray(flux3)\n",
    "flux4 = np.asarray(flux4)\n",
    "flux5 = np.asarray(flux5)\n",
    "\n",
    "ad.LightCurve(0, time_ILC, flux_ILC, len(time_ILC), t, flux0, len(t), 1.0)\n",
    "ad.LightCurve(0, time_ILC, flux_ILC, len(time_ILC), t, flux1, len(t), 10.0)\n",
    "ad.LightCurve(0, time_ILC, flux_ILC, len(time_ILC), t, flux2, len(t), 100.0)\n",
    "ad.LightCurve(0, time_ILC, flux_ILC, len(time_ILC), t, flux3, len(t), 1000.0)\n",
    "#ad.LightCurve(4, time_ILC, flux_ILC, len(time_ILC), t, flux4, len(t), 1.0)\n",
    "#ad.LightCurve(5, time_ILC, flux_ILC, len(time_ILC), t, flux5, len(t), 1.0)"
   ]
  },
  {
   "cell_type": "code",
   "execution_count": 11,
   "metadata": {
    "collapsed": false
   },
   "outputs": [
    {
     "data": {
      "text/plain": [
       "[<matplotlib.lines.Line2D at 0x7f8e395f8f90>]"
      ]
     },
     "execution_count": 11,
     "metadata": {},
     "output_type": "execute_result"
    },
    {
     "data": {
      "image/png": "[encoded data removed]",
      "text/plain": [
       "<matplotlib.figure.Figure at 0x7f8e39565850>"
      ]
     },
     "metadata": {},
     "output_type": "display_data"
    }
   ],
   "source": [
    "plt.plot(t, flux0, color = \"red\")\n",
    "plt.plot(t, flux1, color = \"blue\")\n",
    "plt.plot(t, flux2, color = \"green\")\n",
    "plt.plot(t, flux3, color = \"purple\")"
   ]
  },
  {
   "cell_type": "code",
   "execution_count": 44,
   "metadata": {
    "collapsed": false
   },
   "outputs": [
    {
     "data": {
      "text/plain": [
       "[<matplotlib.lines.Line2D at 0x7f8449b80210>]"
      ]
     },
     "execution_count": 44,
     "metadata": {},
     "output_type": "execute_result"
    },
    {
     "data": {
      "image/png": "[encoded data removed]",
      "text/plain": [
       "<matplotlib.figure.Figure at 0x7f8449db25d0>"
      ]
     },
     "metadata": {},
     "output_type": "display_data"
    }
   ],
   "source": [
    "plt.plot(t, flux0*clight*(2120), color = \"red\")\n",
    "plt.plot(t, flux1*clight*(2310), color = \"blue\")\n",
    "plt.plot(t, flux2*clight*(2910), color = \"green\")\n",
    "plt.plot(t, flux3*clight*(3440), color = \"yellow\")\n",
    "plt.plot(t, flux4*clight*(4500), color = \"black\")\n",
    "plt.plot(t, flux5*clight*(5430), color = \"purple\")"
   ]
  },
  {
   "cell_type": "code",
   "execution_count": 42,
   "metadata": {
    "collapsed": false
   },
   "outputs": [
    {
     "data": {
      "text/plain": [
       "4.6918900521629633e-15"
      ]
     },
     "execution_count": 42,
     "metadata": {},
     "output_type": "execute_result"
    }
   ],
   "source": [
    "flux1[150]*clight*(2120)"
   ]
  },
  {
   "cell_type": "code",
   "execution_count": 35,
   "metadata": {
    "collapsed": false
   },
   "outputs": [
    {
     "data": {
      "text/plain": [
       "2.1200000000000002e-07"
      ]
     },
     "execution_count": 35,
     "metadata": {},
     "output_type": "execute_result"
    }
   ],
   "source": [
    "(2120*1e-10)"
   ]
  },
  {
   "cell_type": "code",
   "execution_count": 15,
   "metadata": {
    "collapsed": false
   },
   "outputs": [
    {
     "ename": "IOError",
     "evalue": "[Errno 2] No such file or directory: 'lc_U_disk.txt'",
     "output_type": "error",
     "traceback": [
      "\u001b[1;31m---------------------------------------------------------------------------\u001b[0m",
      "\u001b[1;31mIOError\u001b[0m                                   Traceback (most recent call last)",
      "\u001b[1;32m<ipython-input-15-6666998caa0b>\u001b[0m in \u001b[0;36m<module>\u001b[1;34m()\u001b[0m\n\u001b[0;32m      1\u001b[0m \u001b[0mT\u001b[0m \u001b[1;33m=\u001b[0m \u001b[1;33m[\u001b[0m\u001b[1;33m]\u001b[0m\u001b[1;33m\u001b[0m\u001b[0m\n\u001b[0;32m      2\u001b[0m \u001b[0mFLUX\u001b[0m \u001b[1;33m=\u001b[0m \u001b[1;33m[\u001b[0m\u001b[1;33m]\u001b[0m\u001b[1;33m\u001b[0m\u001b[0m\n\u001b[1;32m----> 3\u001b[1;33m \u001b[1;32mwith\u001b[0m \u001b[0mopen\u001b[0m\u001b[1;33m(\u001b[0m\u001b[1;34m'lc_U_disk.txt'\u001b[0m\u001b[1;33m)\u001b[0m \u001b[1;32mas\u001b[0m \u001b[0mf\u001b[0m\u001b[1;33m:\u001b[0m\u001b[1;33m\u001b[0m\u001b[0m\n\u001b[0m\u001b[0;32m      4\u001b[0m     \u001b[1;32mfor\u001b[0m \u001b[0mline\u001b[0m \u001b[1;32min\u001b[0m \u001b[0mf\u001b[0m\u001b[1;33m:\u001b[0m\u001b[1;33m\u001b[0m\u001b[0m\n\u001b[0;32m      5\u001b[0m         \u001b[0mdata\u001b[0m \u001b[1;33m=\u001b[0m \u001b[0mline\u001b[0m\u001b[1;33m.\u001b[0m\u001b[0msplit\u001b[0m\u001b[1;33m(\u001b[0m\u001b[1;33m)\u001b[0m\u001b[1;33m\u001b[0m\u001b[0m\n",
      "\u001b[1;31mIOError\u001b[0m: [Errno 2] No such file or directory: 'lc_U_disk.txt'"
     ]
    }
   ],
   "source": [
    "T = []\n",
    "FLUX = []\n",
    "with open('lc_U_disk.txt') as f:\n",
    "    for line in f:\n",
    "        data = line.split()\n",
    "        #print float(data[0])\n",
    "        T.append(float(data[0]))\n",
    "        FLUX.append(float(data[1]))\n",
    "T = np.asarray(T)\n",
    "FLUX = np.asarray(FLUX)\n",
    "FLUX = FLUX*1e28\n",
    "T = T + 55900"
   ]
  },
  {
   "cell_type": "code",
   "execution_count": null,
   "metadata": {
    "collapsed": true
   },
   "outputs": [],
   "source": []
  },
  {
   "cell_type": "code",
   "execution_count": null,
   "metadata": {
    "collapsed": true
   },
   "outputs": [],
   "source": []
  },
  {
   "cell_type": "code",
   "execution_count": 10,
   "metadata": {
    "collapsed": false
   },
   "outputs": [
    {
     "data": {
      "text/plain": [
       "[<matplotlib.lines.Line2D at 0x10d847450>]"
      ]
     },
     "execution_count": 10,
     "metadata": {},
     "output_type": "execute_result"
    },
    {
     "data": {
      "image/png": "[encoded data removed]",
      "text/plain": [
       "<matplotlib.figure.Figure at 0x10d642650>"
      ]
     },
     "metadata": {},
     "output_type": "display_data"
    }
   ],
   "source": [
    "plt.plot(T, FLUX, 'r', linewidth=2.5)"
   ]
  },
  {
   "cell_type": "code",
   "execution_count": 11,
   "metadata": {
    "collapsed": false
   },
   "outputs": [
    {
     "data": {
      "text/plain": [
       "(2.485, 2.495)"
      ]
     },
     "execution_count": 11,
     "metadata": {},
     "output_type": "execute_result"
    },
    {
     "data": {
      "image/png": "[encoded data removed]",
      "text/plain": [
       "<matplotlib.figure.Figure at 0x10d3bc310>"
      ]
     },
     "metadata": {},
     "output_type": "display_data"
    }
   ],
   "source": [
    "plt.plot(T, FLUX, 'r', linewidth=2.5)\n",
    "plt.ylim(2.485, 2.495)\n",
    "#plt.xlim(1500, 3500)"
   ]
  },
  {
   "cell_type": "code",
   "execution_count": 12,
   "metadata": {
    "collapsed": false
   },
   "outputs": [
    {
     "name": "stdout",
     "output_type": "stream",
     "text": [
      "2456431.67\n",
      "56431.669999999925\n"
     ]
    }
   ],
   "source": [
    "#Note I delated the values between 2454270.830 - 2454318.094\n",
    "time_obs = []\n",
    "flux_obs = []\n",
    "fluxerr_obs = []\n",
    "with open('Filter/U_timeflux.txt') as f:\n",
    "    for line in f:\n",
    "        data = line.split()\n",
    "        #print float(data[0])\n",
    "        time_obs.append(float(data[0]))\n",
    "        flux_obs.append(float(data[1]))\n",
    "time_obs = np.asarray(time_obs)\n",
    "print time_obs[0]\n",
    "time_obs = time_obs-2400000\n",
    "flux_obs = np.asarray(flux_obs)\n",
    "fluxerr_obs = np.asarray(fluxerr)\n",
    "print time_obs[0]"
   ]
  },
  {
   "cell_type": "code",
   "execution_count": 13,
   "metadata": {
    "collapsed": false
   },
   "outputs": [
    {
     "data": {
      "text/plain": [
       "[<matplotlib.lines.Line2D at 0x10907c250>]"
      ]
     },
     "execution_count": 13,
     "metadata": {},
     "output_type": "execute_result"
    },
    {
     "data": {
      "image/png": "[encoded data removed]",
      "text/plain": [
       "<matplotlib.figure.Figure at 0x10d9a1a10>"
      ]
     },
     "metadata": {},
     "output_type": "display_data"
    }
   ],
   "source": [
    "plt.plot(time_obs, flux_obs, 'b.', linewidth=2.5)"
   ]
  },
  {
   "cell_type": "code",
   "execution_count": 14,
   "metadata": {
    "collapsed": false
   },
   "outputs": [
    {
     "name": "stdout",
     "output_type": "stream",
     "text": [
      "2.033965909090909\n"
     ]
    }
   ],
   "source": [
    "#time_obs = time_obs-time_obs[0]\n",
    "time_obs = time_obs-12.5 #days \n",
    "#print time_obs\n",
    "mean_flux_obs = mean(flux_obs)\n",
    "print mean_flux_obs\n",
    "flux_obs = flux_obs / mean_flux_obs"
   ]
  },
  {
   "cell_type": "code",
   "execution_count": 15,
   "metadata": {
    "collapsed": false
   },
   "outputs": [
    {
     "data": {
      "text/plain": [
       "[<matplotlib.lines.Line2D at 0x10db2db90>]"
      ]
     },
     "execution_count": 15,
     "metadata": {},
     "output_type": "execute_result"
    },
    {
     "data": {
      "image/png": "[encoded data removed]",
      "text/plain": [
       "<matplotlib.figure.Figure at 0x10db13b90>"
      ]
     },
     "metadata": {},
     "output_type": "display_data"
    }
   ],
   "source": [
    "plt.plot(time_obs, flux_obs, 'b.', linewidth=2.5)"
   ]
  },
  {
   "cell_type": "code",
   "execution_count": 16,
   "metadata": {
    "collapsed": false
   },
   "outputs": [
    {
     "data": {
      "text/plain": [
       "[<matplotlib.lines.Line2D at 0x10d917fd0>]"
      ]
     },
     "execution_count": 16,
     "metadata": {},
     "output_type": "execute_result"
    },
    {
     "data": {
      "image/png": "[encoded data removed]",
      "text/plain": [
       "<matplotlib.figure.Figure at 0x10d9f9e10>"
      ]
     },
     "metadata": {},
     "output_type": "display_data"
    }
   ],
   "source": [
    "plt.plot(time, flux, 'k', linewidth=2.5)\n",
    "plt.plot(T, FLUX, 'r.', linewidth=2.5)\n",
    "plt.plot(time_obs, flux_obs, 'b.', linewidth=2.5)\n",
    "#plt.xlim(56400, 56920)"
   ]
  },
  {
   "cell_type": "code",
   "execution_count": null,
   "metadata": {
    "collapsed": true
   },
   "outputs": [],
   "source": []
  },
  {
   "cell_type": "code",
   "execution_count": null,
   "metadata": {
    "collapsed": true
   },
   "outputs": [],
   "source": []
  },
  {
   "cell_type": "code",
   "execution_count": null,
   "metadata": {
    "collapsed": true
   },
   "outputs": [],
   "source": []
  }
 ],
 "metadata": {
  "kernelspec": {
   "display_name": "Python 2",
   "language": "python",
   "name": "python2"
  },
  "language_info": {
   "codemirror_mode": {
    "name": "ipython",
    "version": 2
   },
   "file_extension": ".py",
   "mimetype": "text/x-python",
   "name": "python",
   "nbconvert_exporter": "python",
   "pygments_lexer": "ipython2",
   "version": "2.7.6"
  }
 },
 "nbformat": 4,
 "nbformat_minor": 1
}
